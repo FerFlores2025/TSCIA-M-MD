
# 1. Importar librerías
import pandas as pd
import matplotlib.pyplot as plt
import seaborn as sns
import glob
import os

# 2. Definir la carpeta donde están los CSV
# Cambiá esta ruta a donde tengas tus archivos
carpeta = r"C:\\Users\\Fer\\OneDrive\\Escritorio\\Modelado de Mineria de Datos\\Proyecto_1\\supermercado\\supermercado.csv"

# Buscar todos los CSV en la carpeta
archivos_csv = glob.glob(os.path.join(carpeta, "*.csv"))

print(f"Se encontraron {len(archivos_csv)} archivos CSV")

# 3. Leer y combinar los CSV
df = pd.concat([pd.read_csv(f) for f in archivos_csv], ignore_index=True)

# Mostrar las primeras filas
df.head()


# 4. Exportar a Excel
salida = os.path.join(carpeta, "salida_combinada.xlsx")
df.to_excel(salida, index=False)

print(f"Archivo Excel generado: {salida}")


# 5. Estadísticas básicas
print("Resumen estadístico:")
display(df.describe(include="all"))


# 6. Gráficos automáticos

# Histogramas para variables numéricas
df.hist(figsize=(10,8))
plt.tight_layout()
plt.show()

# Matriz de correlación
plt.figure(figsize=(8,6))
sns.heatmap(df.corr(), annot=True, cmap="coolwarm")
plt.title("Matriz de correlación")
plt.show()

# Gráficos de frecuencias para variables categóricas
for col in df.select_dtypes(include="object").columns:
    plt.figure(figsize=(6,4))
    sns.countplot(x=col, data=df)
    plt.title(f"Frecuencia de {col}")
    plt.xticks(rotation=45)
    plt.show()


